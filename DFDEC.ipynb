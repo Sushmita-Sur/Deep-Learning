{
 "cells": [
  {
   "cell_type": "code",
   "execution_count": 1,
   "id": "3efeb3ce",
   "metadata": {},
   "outputs": [],
   "source": [
    "import os\n",
    "from PIL import Image\n",
    "import random as rn\n",
    "\n",
    "import tensorflow as tf\n",
    "from tensorflow import keras\n",
    "from tensorflow.keras.layers import LeakyReLU\n",
    "\n",
    "from tensorflow.keras.preprocessing.image import ImageDataGenerator"
   ]
  },
  {
   "cell_type": "code",
   "execution_count": 2,
   "id": "65b27493",
   "metadata": {},
   "outputs": [],
   "source": [
    "train_dir = r'C:/Users/Sushovan/Downloads/DD/Dataset/train'\n",
    "validation_dir = r'C:/Users/Sushovan/Downloads/DD/Dataset/valid'\n",
    "test_dir = r'C:/Users/Sushovan/Downloads/DD/Dataset/test'"
   ]
  },
  {
   "cell_type": "code",
   "execution_count": 3,
   "id": "6ededc8d",
   "metadata": {},
   "outputs": [
    {
     "name": "stdout",
     "output_type": "stream",
     "text": [
      "Found 40000 images belonging to 2 classes.\n",
      "Found 5000 images belonging to 2 classes.\n",
      "Found 5000 images belonging to 2 classes.\n"
     ]
    }
   ],
   "source": [
    "train_datagen = ImageDataGenerator(\n",
    "      rescale=1./255\n",
    ")\n",
    "\n",
    "test_datagen = ImageDataGenerator(rescale=1./255)\n",
    "\n",
    "train_generator = train_datagen.flow_from_directory(\n",
    "        train_dir,\n",
    "        target_size= (224, 224),\n",
    "        batch_size=4,\n",
    "        shuffle = True,\n",
    "        class_mode='binary')\n",
    "\n",
    "validation_generator = test_datagen.flow_from_directory(\n",
    "        validation_dir,\n",
    "        target_size= (224, 224),\n",
    "        batch_size=4,\n",
    "        class_mode='binary')\n",
    "\n",
    "test_generator = test_datagen.flow_from_directory(\n",
    "        test_dir,\n",
    "        target_size= (224, 224),\n",
    "        batch_size=4,\n",
    "        class_mode='binary')"
   ]
  },
  {
   "cell_type": "code",
   "execution_count": 4,
   "id": "c1e6ea98",
   "metadata": {},
   "outputs": [],
   "source": [
    "model = keras.models.Sequential()\n",
    "\n",
    "model.add(keras.layers.Conv2D(filters = 128, kernel_size = (3, 3), padding='same', activation='LeakyReLU', \n",
    "                              kernel_initializer = \"glorot_uniform\", input_shape=(224, 224, 3)))\n",
    "\n",
    "model.add(keras.layers.MaxPooling2D(2, 2))\n",
    "model.add(keras.layers.Dropout(0.25))\n",
    "\n",
    "model.add(keras.layers.Conv2D(filters=64, padding='same', activation='LeakyReLU', kernel_size=(3,3), \n",
    "                              kernel_initializer = \"glorot_uniform\"))\n",
    "\n",
    "model.add(keras.layers.MaxPooling2D(2, 2))\n",
    "model.add(keras.layers.Dropout(0.25))\n",
    "\n",
    "model.add(keras.layers.Conv2D(filters=32, padding='same', activation='LeakyReLU', kernel_size=(3,3), \n",
    "                              kernel_initializer = \"glorot_uniform\"))\n",
    "\n",
    "model.add(keras.layers.MaxPooling2D(2, 2))\n",
    "model.add(keras.layers.Dropout(0.25))\n",
    "\n",
    "model.add(keras.layers.Flatten())\n",
    "\n",
    "model.add(keras.layers.Dense(32, activation= \"LeakyReLU\"))\n",
    "model.add(keras.layers.Dropout(0.25))\n",
    "\n",
    "model.add(keras.layers.Dense(1, activation = 'sigmoid'))"
   ]
  },
  {
   "cell_type": "code",
   "execution_count": 5,
   "id": "2eb7f30b",
   "metadata": {},
   "outputs": [
    {
     "name": "stdout",
     "output_type": "stream",
     "text": [
      "Model: \"sequential\"\n",
      "_________________________________________________________________\n",
      "Layer (type)                 Output Shape              Param #   \n",
      "=================================================================\n",
      "conv2d (Conv2D)              (None, 224, 224, 128)     3584      \n",
      "_________________________________________________________________\n",
      "max_pooling2d (MaxPooling2D) (None, 112, 112, 128)     0         \n",
      "_________________________________________________________________\n",
      "dropout (Dropout)            (None, 112, 112, 128)     0         \n",
      "_________________________________________________________________\n",
      "conv2d_1 (Conv2D)            (None, 112, 112, 64)      73792     \n",
      "_________________________________________________________________\n",
      "max_pooling2d_1 (MaxPooling2 (None, 56, 56, 64)        0         \n",
      "_________________________________________________________________\n",
      "dropout_1 (Dropout)          (None, 56, 56, 64)        0         \n",
      "_________________________________________________________________\n",
      "conv2d_2 (Conv2D)            (None, 56, 56, 32)        18464     \n",
      "_________________________________________________________________\n",
      "max_pooling2d_2 (MaxPooling2 (None, 28, 28, 32)        0         \n",
      "_________________________________________________________________\n",
      "dropout_2 (Dropout)          (None, 28, 28, 32)        0         \n",
      "_________________________________________________________________\n",
      "flatten (Flatten)            (None, 25088)             0         \n",
      "_________________________________________________________________\n",
      "dense (Dense)                (None, 32)                802848    \n",
      "_________________________________________________________________\n",
      "dropout_3 (Dropout)          (None, 32)                0         \n",
      "_________________________________________________________________\n",
      "dense_1 (Dense)              (None, 1)                 33        \n",
      "=================================================================\n",
      "Total params: 898,721\n",
      "Trainable params: 898,721\n",
      "Non-trainable params: 0\n",
      "_________________________________________________________________\n"
     ]
    }
   ],
   "source": [
    "model.summary()"
   ]
  },
  {
   "cell_type": "code",
   "execution_count": 6,
   "id": "e5b8fdfd",
   "metadata": {},
   "outputs": [],
   "source": [
    "model.compile(loss= \"binary_crossentropy\", optimizer= \"nadam\", metrics=[\"accuracy\"])"
   ]
  },
  {
   "cell_type": "code",
   "execution_count": 7,
   "id": "c3716a77",
   "metadata": {},
   "outputs": [
    {
     "name": "stderr",
     "output_type": "stream",
     "text": [
      "C:\\Users\\Sushovan\\anaconda3\\envs\\tf_gpu\\lib\\site-packages\\keras\\engine\\training.py:1972: UserWarning: `Model.fit_generator` is deprecated and will be removed in a future version. Please use `Model.fit`, which supports generators.\n",
      "  warnings.warn('`Model.fit_generator` is deprecated and '\n"
     ]
    },
    {
     "name": "stdout",
     "output_type": "stream",
     "text": [
      "Epoch 1/51\n",
      "10000/10000 [==============================] - 429s 42ms/step - loss: 0.5745 - accuracy: 0.7109 - val_loss: 0.5393 - val_accuracy: 0.7532\n",
      "Epoch 2/51\n",
      "10000/10000 [==============================] - 390s 39ms/step - loss: 0.4245 - accuracy: 0.8094 - val_loss: 0.3753 - val_accuracy: 0.8334\n",
      "Epoch 3/51\n",
      "10000/10000 [==============================] - 381s 38ms/step - loss: 0.3737 - accuracy: 0.8386 - val_loss: 0.3489 - val_accuracy: 0.8446\n",
      "Epoch 4/51\n",
      "10000/10000 [==============================] - 397s 40ms/step - loss: 0.3468 - accuracy: 0.8541 - val_loss: 0.3336 - val_accuracy: 0.8638\n",
      "Epoch 5/51\n",
      "10000/10000 [==============================] - 391s 39ms/step - loss: 0.3372 - accuracy: 0.8633 - val_loss: 0.3006 - val_accuracy: 0.8788\n",
      "Epoch 6/51\n",
      "10000/10000 [==============================] - 380s 38ms/step - loss: 0.3241 - accuracy: 0.8687 - val_loss: 0.2858 - val_accuracy: 0.8830\n",
      "Epoch 7/51\n",
      "10000/10000 [==============================] - 380s 38ms/step - loss: 0.3168 - accuracy: 0.8745 - val_loss: 0.2625 - val_accuracy: 0.8974\n",
      "Epoch 8/51\n",
      "10000/10000 [==============================] - 382s 38ms/step - loss: 0.3136 - accuracy: 0.8764 - val_loss: 0.2785 - val_accuracy: 0.8884\n",
      "Epoch 9/51\n",
      "10000/10000 [==============================] - 381s 38ms/step - loss: 0.3117 - accuracy: 0.8796 - val_loss: 0.2724 - val_accuracy: 0.8878\n",
      "Epoch 10/51\n",
      "10000/10000 [==============================] - 380s 38ms/step - loss: 0.3145 - accuracy: 0.8791 - val_loss: 0.2375 - val_accuracy: 0.9084\n",
      "Epoch 11/51\n",
      "10000/10000 [==============================] - 380s 38ms/step - loss: 0.3075 - accuracy: 0.8859 - val_loss: 0.2743 - val_accuracy: 0.9018\n",
      "Epoch 12/51\n",
      "10000/10000 [==============================] - 380s 38ms/step - loss: 0.3092 - accuracy: 0.8834 - val_loss: 0.2577 - val_accuracy: 0.8994\n",
      "Epoch 13/51\n",
      "10000/10000 [==============================] - 380s 38ms/step - loss: 0.3092 - accuracy: 0.8869 - val_loss: 0.2606 - val_accuracy: 0.9042\n",
      "Epoch 14/51\n",
      "10000/10000 [==============================] - 380s 38ms/step - loss: 0.3100 - accuracy: 0.8891 - val_loss: 0.2740 - val_accuracy: 0.8966\n",
      "Epoch 15/51\n",
      "10000/10000 [==============================] - 380s 38ms/step - loss: 0.3143 - accuracy: 0.8880 - val_loss: 0.2469 - val_accuracy: 0.9024\n",
      "Epoch 16/51\n",
      "10000/10000 [==============================] - 381s 38ms/step - loss: 0.3163 - accuracy: 0.8870 - val_loss: 0.2724 - val_accuracy: 0.9114\n",
      "Epoch 17/51\n",
      "10000/10000 [==============================] - 381s 38ms/step - loss: 0.3155 - accuracy: 0.8896 - val_loss: 0.2371 - val_accuracy: 0.9112\n",
      "Epoch 18/51\n",
      "10000/10000 [==============================] - 382s 38ms/step - loss: 0.3209 - accuracy: 0.8885 - val_loss: 0.3641 - val_accuracy: 0.8698\n",
      "Epoch 19/51\n",
      "10000/10000 [==============================] - 382s 38ms/step - loss: 0.3218 - accuracy: 0.8916 - val_loss: 0.2796 - val_accuracy: 0.9000\n",
      "Epoch 20/51\n",
      "10000/10000 [==============================] - 382s 38ms/step - loss: 0.3248 - accuracy: 0.8896 - val_loss: 0.2489 - val_accuracy: 0.9084\n",
      "Epoch 21/51\n",
      "10000/10000 [==============================] - 382s 38ms/step - loss: 0.3262 - accuracy: 0.8908 - val_loss: 0.2464 - val_accuracy: 0.9120\n",
      "Epoch 22/51\n",
      "10000/10000 [==============================] - 382s 38ms/step - loss: 0.3336 - accuracy: 0.8911 - val_loss: 0.2831 - val_accuracy: 0.9180\n",
      "Epoch 23/51\n",
      "10000/10000 [==============================] - 382s 38ms/step - loss: 0.3286 - accuracy: 0.8924 - val_loss: 0.2536 - val_accuracy: 0.9110\n",
      "Epoch 24/51\n",
      "10000/10000 [==============================] - 384s 38ms/step - loss: 0.3302 - accuracy: 0.8952 - val_loss: 0.2694 - val_accuracy: 0.8996\n",
      "Epoch 25/51\n",
      "10000/10000 [==============================] - 383s 38ms/step - loss: 0.3384 - accuracy: 0.8926 - val_loss: 0.2410 - val_accuracy: 0.9114\n",
      "Epoch 26/51\n",
      "10000/10000 [==============================] - 382s 38ms/step - loss: 0.3334 - accuracy: 0.8928 - val_loss: 0.3564 - val_accuracy: 0.9044\n",
      "Epoch 27/51\n",
      "10000/10000 [==============================] - 382s 38ms/step - loss: 0.3374 - accuracy: 0.8936 - val_loss: 0.2734 - val_accuracy: 0.9134\n",
      "Epoch 28/51\n",
      "10000/10000 [==============================] - 382s 38ms/step - loss: 0.3450 - accuracy: 0.8927 - val_loss: 0.2390 - val_accuracy: 0.9138\n",
      "Epoch 29/51\n",
      "10000/10000 [==============================] - 382s 38ms/step - loss: 0.3439 - accuracy: 0.8947 - val_loss: 0.2393 - val_accuracy: 0.9152\n",
      "Epoch 30/51\n",
      "10000/10000 [==============================] - 383s 38ms/step - loss: 0.3562 - accuracy: 0.8921 - val_loss: 0.2201 - val_accuracy: 0.9116\n",
      "Epoch 31/51\n",
      "10000/10000 [==============================] - 383s 38ms/step - loss: 0.3419 - accuracy: 0.8974 - val_loss: 0.2635 - val_accuracy: 0.9126\n",
      "Epoch 32/51\n",
      "10000/10000 [==============================] - 383s 38ms/step - loss: 0.3536 - accuracy: 0.8945 - val_loss: 0.3723 - val_accuracy: 0.8822\n",
      "Epoch 33/51\n",
      "10000/10000 [==============================] - 383s 38ms/step - loss: 0.3558 - accuracy: 0.8941 - val_loss: 0.3763 - val_accuracy: 0.8178\n",
      "Epoch 34/51\n",
      "10000/10000 [==============================] - 382s 38ms/step - loss: 0.3646 - accuracy: 0.8938 - val_loss: 0.2753 - val_accuracy: 0.9138\n",
      "Epoch 35/51\n",
      "10000/10000 [==============================] - 382s 38ms/step - loss: 0.3532 - accuracy: 0.8968 - val_loss: 0.2116 - val_accuracy: 0.9264\n",
      "Epoch 36/51\n",
      "10000/10000 [==============================] - 382s 38ms/step - loss: 0.3620 - accuracy: 0.8957 - val_loss: 0.3604 - val_accuracy: 0.9042\n",
      "Epoch 37/51\n",
      "10000/10000 [==============================] - 383s 38ms/step - loss: 0.3533 - accuracy: 0.8971 - val_loss: 0.2790 - val_accuracy: 0.9052\n",
      "Epoch 38/51\n",
      "10000/10000 [==============================] - 383s 38ms/step - loss: 0.3741 - accuracy: 0.8953 - val_loss: 0.2595 - val_accuracy: 0.9102\n",
      "Epoch 39/51\n",
      "10000/10000 [==============================] - 383s 38ms/step - loss: 0.3632 - accuracy: 0.8962 - val_loss: 0.2812 - val_accuracy: 0.9142\n",
      "Epoch 40/51\n",
      "10000/10000 [==============================] - 387s 39ms/step - loss: 0.3664 - accuracy: 0.8967 - val_loss: 0.2497 - val_accuracy: 0.9128\n",
      "Epoch 41/51\n",
      "10000/10000 [==============================] - 383s 38ms/step - loss: 0.3724 - accuracy: 0.8987 - val_loss: 0.2284 - val_accuracy: 0.9104\n",
      "Epoch 42/51\n",
      "10000/10000 [==============================] - 383s 38ms/step - loss: 0.3665 - accuracy: 0.8969 - val_loss: 0.2631 - val_accuracy: 0.9196\n",
      "Epoch 43/51\n",
      "10000/10000 [==============================] - 383s 38ms/step - loss: 0.3783 - accuracy: 0.8961 - val_loss: 0.2077 - val_accuracy: 0.9210\n",
      "Epoch 44/51\n",
      "10000/10000 [==============================] - 383s 38ms/step - loss: 0.3774 - accuracy: 0.8969 - val_loss: 0.2948 - val_accuracy: 0.9204\n",
      "Epoch 45/51\n",
      "10000/10000 [==============================] - 384s 38ms/step - loss: 0.3781 - accuracy: 0.8982 - val_loss: 0.2534 - val_accuracy: 0.9150\n",
      "Epoch 46/51\n",
      "10000/10000 [==============================] - 383s 38ms/step - loss: 0.3798 - accuracy: 0.8968 - val_loss: 0.2229 - val_accuracy: 0.9204\n",
      "Epoch 47/51\n",
      "10000/10000 [==============================] - 382s 38ms/step - loss: 0.3941 - accuracy: 0.8956 - val_loss: 0.2332 - val_accuracy: 0.9256\n",
      "Epoch 48/51\n",
      "10000/10000 [==============================] - 382s 38ms/step - loss: 0.3857 - accuracy: 0.8977 - val_loss: 0.3728 - val_accuracy: 0.8730\n",
      "Epoch 49/51\n",
      "10000/10000 [==============================] - 382s 38ms/step - loss: 0.3750 - accuracy: 0.8995 - val_loss: 0.2701 - val_accuracy: 0.9220\n",
      "Epoch 50/51\n",
      "10000/10000 [==============================] - 382s 38ms/step - loss: 0.3884 - accuracy: 0.8961 - val_loss: 0.2613 - val_accuracy: 0.9050\n",
      "Epoch 51/51\n",
      "10000/10000 [==============================] - 383s 38ms/step - loss: 0.3904 - accuracy: 0.8972 - val_loss: 0.2578 - val_accuracy: 0.9292\n"
     ]
    }
   ],
   "source": [
    "history = model.fit_generator(\n",
    "      train_generator,\n",
    "      epochs=51,\n",
    "      validation_data=validation_generator,\n",
    "      verbose=1)"
   ]
  },
  {
   "cell_type": "code",
   "execution_count": 8,
   "id": "7c7d6db8",
   "metadata": {},
   "outputs": [
    {
     "name": "stdout",
     "output_type": "stream",
     "text": [
      "1250/1250 [==============================] - 15s 12ms/step - loss: 0.2242 - accuracy: 0.9388\n"
     ]
    }
   ],
   "source": [
    "test_loss, test_acc = model.evaluate(test_generator)"
   ]
  },
  {
   "cell_type": "code",
   "execution_count": 9,
   "id": "7576a562",
   "metadata": {},
   "outputs": [
    {
     "data": {
      "text/plain": [
       "0.22415263950824738"
      ]
     },
     "execution_count": 9,
     "metadata": {},
     "output_type": "execute_result"
    }
   ],
   "source": [
    "test_loss"
   ]
  },
  {
   "cell_type": "code",
   "execution_count": 10,
   "id": "ba178dd7",
   "metadata": {},
   "outputs": [
    {
     "data": {
      "text/plain": [
       "0.9387999773025513"
      ]
     },
     "execution_count": 10,
     "metadata": {},
     "output_type": "execute_result"
    }
   ],
   "source": [
    "test_acc"
   ]
  },
  {
   "cell_type": "code",
   "execution_count": 12,
   "id": "0cfbaba5",
   "metadata": {},
   "outputs": [],
   "source": [
    "model.save('DFDEC.h5')"
   ]
  },
  {
   "cell_type": "code",
   "execution_count": null,
   "id": "b77f3e43",
   "metadata": {},
   "outputs": [],
   "source": []
  }
 ],
 "metadata": {
  "kernelspec": {
   "display_name": "Python 3 (ipykernel)",
   "language": "python",
   "name": "python3"
  },
  "language_info": {
   "codemirror_mode": {
    "name": "ipython",
    "version": 3
   },
   "file_extension": ".py",
   "mimetype": "text/x-python",
   "name": "python",
   "nbconvert_exporter": "python",
   "pygments_lexer": "ipython3",
   "version": "3.9.16"
  }
 },
 "nbformat": 4,
 "nbformat_minor": 5
}
